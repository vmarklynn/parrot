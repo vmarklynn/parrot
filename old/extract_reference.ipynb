{
 "cells": [
  {
   "cell_type": "code",
   "execution_count": 15,
   "metadata": {},
   "outputs": [],
   "source": [
    "import json\n",
    "import os\n",
    "PATH = \"/home/yonglong/project/speech_to_text_for_conversations/reference_json/\"\n",
    "PATH1 = \"/home/yonglong/project/speech_to_text_for_conversations/reference_txt/\"\n",
    "\n",
    "def remove_suffix(filename):\n",
    "    return filename.replace(\".json\", \"\")\n",
    "\n",
    "# Loop through all the files in the PATH directory\n",
    "for filename in os.listdir(PATH):\n",
    "    if filename.endswith(\".json\"):\n",
    "        FILE = os.path.join(PATH, filename)\n",
    "        # Load the JSON data from a file\n",
    "        with open(FILE, 'r') as f:\n",
    "            data = json.load(f)['general_query_list'][0][\"answer\"]\n",
    "            # Write to a new file\n",
    "            with open(os.path.join(PATH1, remove_suffix(filename) + '.txt'), 'w+') as new_f:\n",
    "                new_f.write(data)"
   ]
  }
 ],
 "metadata": {
  "kernelspec": {
   "display_name": "Python 3",
   "language": "python",
   "name": "python3"
  },
  "language_info": {
   "codemirror_mode": {
    "name": "ipython",
    "version": 3
   },
   "file_extension": ".py",
   "mimetype": "text/x-python",
   "name": "python",
   "nbconvert_exporter": "python",
   "pygments_lexer": "ipython3",
   "version": "3.8.10"
  },
  "orig_nbformat": 4,
  "vscode": {
   "interpreter": {
    "hash": "916dbcbb3f70747c44a77c7bcd40155683ae19c65e1c03b4aa3499c5328201f1"
   }
  }
 },
 "nbformat": 4,
 "nbformat_minor": 2
}
