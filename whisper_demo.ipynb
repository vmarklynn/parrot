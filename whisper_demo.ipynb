{
 "cells": [
  {
   "cell_type": "code",
   "execution_count": 1,
   "metadata": {},
   "outputs": [
    {
     "name": "stderr",
     "output_type": "stream",
     "text": [
      "/Users/vincentmarklynn/.pyenv/versions/3.9.16/lib/python3.9/site-packages/tqdm/auto.py:22: TqdmWarning: IProgress not found. Please update jupyter and ipywidgets. See https://ipywidgets.readthedocs.io/en/stable/user_install.html\n",
      "  from .autonotebook import tqdm as notebook_tqdm\n",
      "2023-01-18 20:01:27.727874: I tensorflow/core/platform/cpu_feature_guard.cc:193] This TensorFlow binary is optimized with oneAPI Deep Neural Network Library (oneDNN) to use the following CPU instructions in performance-critical operations:  AVX2 FMA\n",
      "To enable them in other operations, rebuild TensorFlow with the appropriate compiler flags.\n",
      "/Users/vincentmarklynn/.pyenv/versions/3.9.16/lib/python3.9/site-packages/whisper/transcribe.py:79: UserWarning: FP16 is not supported on CPU; using FP32 instead\n",
      "  warnings.warn(\"FP16 is not supported on CPU; using FP32 instead\")\n"
     ]
    },
    {
     "name": "stdout",
     "output_type": "stream",
     "text": [
      " Hi, I'm Anjali Sebastian and for my research presentation, I have selected the paper, Predictibility of Web Server Traffic Conjession written by Y. Barashnikov et al. Written in 2005. The location to the reference in the textbook is on page 417, and which discusses dynamically creating replicas when demand goes up. There are often large swings in demand for web server content, and these bursts of traffic are usually called hotspots or flash crowds. So the paper actually looks at investigating the potential for predicting these hotspots in advance. The idea here is to assess the feasibility of a prediction algorithm, not specifically deliver a finished product. The approach taken is predictive versus reactive. So when you're talking about a reactive approach, you are already experiencing the hotspot and are trying to mitigate it by either throttling requests or you know, farming new servers. With this predictive approach, however, you could also use it in conjunction with a reactive approach for better resource management. So first we look at a more rigorous definition of a hotspot, and a hotspot is defined as a point in time when the number of requests, page requests, RT goes higher than H, which is our maximum capacity. But since time is very small and there can be a lot of high variation, we need to smooth it over using an interval, which is called WD. So in this case, what we're saying with this formula here is that when the traffic is experiencing a hotspot, on average, the request rate is higher than H. The paper analyzes request flow data from four well known high traffic servers. The x-axis shows the time in seconds while the y-axis represents the request number of requests every 10 seconds. All four of the servers show very different traffic patterns. And in order to predict future traffic, we first construct something called an auto correlation function. Auto correlation is simply the correlation between a variable and its future or like time shift itself. So in this case, we are looking at the low values between the time t and the time t plus x. If there's high autocorrelation, then you can predict the will load at t plus x given the load at t. An ideal autocorrelation would be aligned that is very close to one, nearly very flat. We can see that the workup server has very high autocorrelation while NASA has very low autocorrelation. We then use these autocorrelation functions and we perform basically linear regression on them. And we do the linear regression for a specific time window, which is called the prediction window. And essentially tells us how much of history do we want to consider. And in addition to this, we also look at something called the advanced notice. And the advanced notice is just how, how ahead we want to predict the hotspot. And this is typically denoted by the Greek letter tau. So the algorithm, we in the algorithm, we set a tau max, which is like the maximum advanced notice you could get. And we assume that the hotspot is going to arrive by tau max. So it acts like an alarm. So if it doesn't happen, we reset the alarm after a tau max. And we keep doing this over and over again. And we also find a set of sequences of advanced notice called tau T that keep predicting how far, how much time is left to find the next hotspot. We'll look at this in the next slide. This is how we can use the algorithm to detect hotspots. The advanced notice sequences or prediction sequences are superimposed on the corresponding request data. The prediction sequence is the tau T that we had discussed in the previous slide. And you can see that it is falling here. The T edge over here is the actual hotspot arrival time, which is indicated by this line. And what we see here is that this is a case of a very well predicted hotspot where the. Prediction sequence is linearly decreasing and can and falls to a near zero when the actual hotspot arrives. So tau max as we discussed is the maximum advanced notice that you can get. And it's obviously good to have a very high tau max because that gives you a lot of time to prepare. But if it's too large, it generates too many false alarms, which we can see on the second image here where there's actually a false alarm. There is actually no hotspot, but an alarm was raised. So going forward, we just look at. At the algorithm assumptions and our ability. The assumption is that it assumes that we have the ability to identify proper values for. For edge for the granularity for the prediction window for team tau max. And all these are much easier said than done. The paper does have significant details regarding how you would select these parameters. But it does not consider the fact that maybe these parameters might have to be dynamically changed. Analysis I felt the algorithm is similar to auto regressive moving average model, which is used extensively in micro economic and financial forecasting. It has become much harder to predict hotspots due to new traffic patterns like social media, video streaming, etc. However, the idea that predictability in internet traffic is possible and it can be used to allocate resources efficiently still relevant. This is my conclusion. Thank you.\n"
     ]
    }
   ],
   "source": [
    "import whisper\n",
    "\n",
    "model = whisper.load_model(\"base\")\n",
    "result = model.transcribe(\"anjali_zoom_test.m4a\")\n",
    "print(result[\"text\"])"
   ]
  },
  {
   "cell_type": "code",
   "execution_count": null,
   "metadata": {},
   "outputs": [],
   "source": []
  }
 ],
 "metadata": {
  "kernelspec": {
   "display_name": "Python 3",
   "language": "python",
   "name": "python3"
  },
  "language_info": {
   "codemirror_mode": {
    "name": "ipython",
    "version": 3
   },
   "file_extension": ".py",
   "mimetype": "text/x-python",
   "name": "python",
   "nbconvert_exporter": "python",
   "pygments_lexer": "ipython3",
   "version": "3.9.16"
  },
  "orig_nbformat": 4,
  "vscode": {
   "interpreter": {
    "hash": "414dafb9f8f8582510543550b630ba0f51774dd9ae5b9c2e113467e3a57112e0"
   }
  }
 },
 "nbformat": 4,
 "nbformat_minor": 2
}
