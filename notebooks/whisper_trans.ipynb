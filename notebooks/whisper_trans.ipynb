{
 "cells": [
  {
   "cell_type": "markdown",
   "metadata": {},
   "source": [
    "# Example of Speech to Text\n",
    "\n",
    "This is an example of speech to text modules and using whisper to do transcriptions.\n",
    "\n",
    "In this project we not only transcribe, but also summarize the transcriptions meeting summaries, indeintify speakers etc."
   ]
  },
  {
   "cell_type": "code",
   "execution_count": 132,
   "metadata": {},
   "outputs": [],
   "source": [
    "%reload_ext autoreload\n",
    "%autoreload 2\n"
   ]
  },
  {
   "cell_type": "code",
   "execution_count": 6,
   "metadata": {},
   "outputs": [
    {
     "name": "stdout",
     "output_type": "stream",
     "text": [
      "Overwriting ../services.py\n"
     ]
    }
   ],
   "source": [
    "%%writefile \"../services.py\"\n",
    "\n",
    "import whisper, pytube, hashlib, os, datetime\n",
    "from pytube import YouTube\n",
    "from nltk.tokenize import sent_tokenize\n",
    "from  mangorest.mango import webapi\n",
    "\n",
    "model = whisper.load_model(\"base\")\n",
    "\n",
    "\n",
    "def transcribe_file(file =\"/Users/snarayan/Desktop/data/audio/index.mp4\", **kwargs):\n",
    "    result = model.transcribe(file)\n",
    "    return result\n",
    "\n",
    "    \n",
    "\n",
    "def splitIntoParas(tr, nLinesPerPara=4):\n",
    "    n= nLinesPerPara\n",
    "    l=tr.get('segments', [])\n",
    "    ret = \"\"\n",
    "    for i,j in enumerate(l[::n]):\n",
    "        a, b = i*n, i*n + n\n",
    "        o = \"\".join([j['text'] for j in l[a:b]])\n",
    "        ret += o.strip() + \"\\n\\n\";\n",
    "        #print(f'{a}-{b} {o} \\n')\n",
    "        \n",
    "    return ret\n",
    "\n",
    "\n",
    "\n",
    "test_url = \"https://www.youtube.com/watch?v=DuSDVj9a4WM&list=PLEpvS3HCVQ5_ZlyF1_i-WSwBzLoDLxoc9\"\n",
    "\n",
    "#--------------------------------------------------------------------------------------------------------    \n",
    "@webapi(\"/scribe/transcribe_youtube/\")\n",
    "def transcribe_youtube( url = test_url , force_download=False, force_transribe=False, **kwargs):    \n",
    "    h = hashlib.md5(url.encode())\n",
    "    file = \"/tmp/\" + str(h.hexdigest()) + \".mp4\"\n",
    "    \n",
    "    if (force_download or not os.path.exists(file)):  \n",
    "        file = YouTube(url).streams.filter(only_audio=True).first().download(filename=file)\n",
    "\n",
    "    print( f\"File: {file}\")\n",
    "    if (force_transribe or not os.path.exists(file +\".txt\")):  \n",
    "        print( f\"Calling transcription: {file}.txt\")\n",
    "        tr = model.transcribe(file)\n",
    "        ret = splitIntoParas(tr)\n",
    "        with open(file +\".txt\", \"w\") as f:\n",
    "            f.write(ret)\n",
    "        with open(file +\".json\", \"w\") as f:\n",
    "            f.write(str(tr))\n",
    "            \n",
    "        transcription = ret\n",
    "    else:\n",
    "        with open(file +\".txt\", \"r\") as f:\n",
    "            transcription = f.read()\n",
    "        \n",
    "    return transcription;\n"
   ]
  },
  {
   "cell_type": "code",
   "execution_count": 7,
   "metadata": {},
   "outputs": [
    {
     "name": "stdout",
     "output_type": "stream",
     "text": [
      "File: /tmp/fc16d43f211b948ced267d341a00d0af.mp4\n",
      "In this set of videos, I would like to introduce to you a framework called TensorFlow. TensorFlow is a framework developed by Google to support machine learning work. If you were to visit this site here, www.tensorflow.org, you get more information, more than what I am talking about. So here is a TensorFlow.org. It's a website managed and maintained by Google.\n",
      "\n",
      "I'm going to be introducing a lot of concepts from this page and I'm going to be referring to quite a few links on this site as well. Now TensorFlow is one of the frameworks compared to many other frameworks that are out there that you can choose from. For example, MXNet, our PyTorch, CNTK, some of the networks are the frameworks that I'm familiar with. Tiano is one of the times I use to use it but I don't use it anymore.\n",
      "\n",
      "TensorFlow is one of the other popular frameworks that has become very useful in many aspects of my development work. So I will introduce TensorFlow and of course depending on what you choose, you may want to look at other frameworks as well. Now let's think of TensorFlow, what that really means. So if I were to take a guess, I wanted to know what TensorFlow was for a long time. So I looked up on Wikipedia and for quite some time I didn't really understand the definition or what it really meant for a long, long time.\n",
      "\n",
      "So for example, on Wikipedia the tensor is defined as an algebraic object that describes a multilinear relationship between sex of algebraic objects related to a vector space. And that definition does not tell me anything about what a vector, what a tensor was. So eventually I realized by looking at and hearing from all the other experts in the industry, the tensor is an int-dimensional matrix. So if you use that as a definition of a tensor, perhaps that will serve the purpose for all you need to do for deep neural networks.\n",
      "\n",
      "So with that definition let's think of tensor as an int-dimensional matrix. Now when you think of deep neural networks there are lots of matrices that you work with. Also there's a weight matrix, there's input matrix and you multiply those two and you create new matrices or new tensors. So there is a flow of these tensors through the deep neural networks and that may be the motivations for creating this name tensor flow.\n",
      "\n",
      "That's just my guess. Well having said that here are some of the utilities that you get with tensor flow. There are elementary operations tensor flow keeps the objects in its own way and there are elementary operations that moves from tensor flow objects into num pi in python. So you can get to use the benefits of both the python and tensor flow as well.\n",
      "\n",
      "Keras once upon a time was a higher level construct to support many different deep neural network frame for such as CNTK, TNO and tensor flow etc. But recently tensor flow has integrated keras so tightly so you can seamlessly use all the higher level constructs and use tensor flow at the same time. TensorFlow comes with a JavaScript library that you can use it in the browser for evaluating rather than creating background objects. You can directly evaluate the models online using JavaScript.\n",
      "\n",
      "TensorFlow Hub where you can download the pre-built models or you can also publish your own models onto tensor flow hub. TensorFlow comes with tensor boar that when you are building deep neural networks you will be using different kinds of hyper parameters for trying out which model may work. You may want to go back and see which model work better did it actually work better in the training or the testing. So tensor board will help you to monitor your training and choose the right set of parameters or even just observing what's really going on.\n",
      "\n",
      "TensorFlow Lite is a set of utilities that you can use it for mobile applications such as Android, iOS or Raspberry Pi. The first thing is first if you want to use tensor flow in Python you may want to set up a few things. Here is one recommendations I would give but you can choose any options of evo choice. This is not the only way that you can do. You can use container frameworks or you can use colab, online utility from Google that you can use freely deployable notebooks that you can share as well.\n",
      "\n",
      "I develop all this on my local computer on my MacBook where I create a virtual environment and I create a virtual environment in my home directory called tilde V and V. I am using Python 3.9. You may choose any version 3.7 and that should be the purpose for these set of videos. Now when I create that I also create an area so that I can type in the areas to activate or deactivate that virtual environment. Once you activate the virtual environment you may want to install a tensor flow using pip install tensor flow.\n",
      "\n",
      "There are other ways that you can also install tensor flow from the source code but this is just how I choose to install tensor flow in my environment. Now for all the purposes I use VS code for developing my applications because VS code offers me in centralized place to organize my source code and then also I can build everything without having to leave the environment because if you want to use the terminal I determined was right here and there is a debugging capability and all that. But if you are using VS code and using a virtual environment you may want to tell VS code what environment that you want to use and test and build your applications. So as you can see here I have different versions of Python installed in different places and if you want to tell VS code which virtual environment it has to use to build your applications you have to give it a location.\n",
      "\n",
      "So go to VS code settings search for BEMPAD and tell where you store all your virtual environment and it will automatically pick up the environment and gives you an option so that you can choose the environment which you can work from the command line also within the VS code environment as well. Well that is the setup and in the next set of videos we are going to talk about how to use tensor flow and decarase framework to build simple to deep neural networks.\n",
      "\n",
      " 0:00:00.002670\n"
     ]
    }
   ],
   "source": [
    "dt1 = datetime.datetime.now() \n",
    "tr = transcribe_youtube()\n",
    "dt2 = datetime.datetime.now() \n",
    "\n",
    "print(tr, dt2 - dt1)\n"
   ]
  },
  {
   "cell_type": "code",
   "execution_count": null,
   "metadata": {},
   "outputs": [],
   "source": []
  }
 ],
 "metadata": {
  "hide_input": false,
  "kernelspec": {
   "display_name": "Python 3 (ipykernel)",
   "language": "python",
   "name": "python3"
  },
  "language_info": {
   "codemirror_mode": {
    "name": "ipython",
    "version": 3
   },
   "file_extension": ".py",
   "mimetype": "text/x-python",
   "name": "python",
   "nbconvert_exporter": "python",
   "pygments_lexer": "ipython3",
   "version": "3.8.3"
  },
  "toc": {
   "base_numbering": 1,
   "nav_menu": {},
   "number_sections": true,
   "sideBar": true,
   "skip_h1_title": false,
   "title_cell": "Table of Contents",
   "title_sidebar": "Contents",
   "toc_cell": false,
   "toc_position": {},
   "toc_section_display": true,
   "toc_window_display": false
  }
 },
 "nbformat": 4,
 "nbformat_minor": 4
}
