{
 "cells": [
  {
   "cell_type": "code",
   "execution_count": 13,
   "metadata": {},
   "outputs": [],
   "source": [
    "import numpy as np\n",
    "import pandas as pd\n",
    "import re\n",
    "import os\n",
    "TARGET_FOLDER = \"/home/yonglong/project/speech_to_text_for_conversations/data/\"\n",
    "NEW_LOC = \"/home/yonglong/project/speech_to_text_for_conversations/formatted_data/\"\n",
    "\n",
    "def extract_speaker(input_string):\n",
    "    return input_string.strip().split(\"\\t\")[-1]\n",
    "\n",
    "for filename in os.listdir(TARGET_FOLDER):\n",
    "    if filename.endswith(\".txt\"):\n",
    "        FILE = os.path.join(TARGET_FOLDER, filename)\n",
    "        with open(FILE, 'r') as f:\n",
    "            with open(os.path.join(NEW_LOC, filename), 'w+') as new_f:\n",
    "                for ele in f:\n",
    "                    data = \"\"\n",
    "                    if (ele[0].isdigit()):\n",
    "                        data += extract_speaker(ele) + \":\"\n",
    "                    # targeting sentences\n",
    "                    if (not ele[0].isdigit() and ele.strip()):\n",
    "                        data += ele\n",
    "                    new_f.write(data)"
   ]
  }
 ],
 "metadata": {
  "hide_input": false,
  "kernelspec": {
   "display_name": "Python 3",
   "language": "python",
   "name": "python3"
  },
  "language_info": {
   "codemirror_mode": {
    "name": "ipython",
    "version": 3
   },
   "file_extension": ".py",
   "mimetype": "text/x-python",
   "name": "python",
   "nbconvert_exporter": "python",
   "pygments_lexer": "ipython3",
   "version": "3.9.13"
  },
  "toc": {
   "base_numbering": 1,
   "nav_menu": {},
   "number_sections": true,
   "sideBar": true,
   "skip_h1_title": false,
   "title_cell": "Table of Contents",
   "title_sidebar": "Contents",
   "toc_cell": false,
   "toc_position": {},
   "toc_section_display": true,
   "toc_window_display": false
  },
  "vscode": {
   "interpreter": {
    "hash": "8bffa1526f135456300336188556ed7c1f36aadbad680b61ba3e89624604c09c"
   }
  }
 },
 "nbformat": 4,
 "nbformat_minor": 2
}
