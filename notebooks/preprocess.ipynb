{
 "cells": [
  {
   "cell_type": "code",
   "execution_count": 1,
   "metadata": {},
   "outputs": [],
   "source": [
    "import numpy as np\n",
    "import pandas as pd\n",
    "import re\n",
    "import os\n",
    "TARGET_FOLDER = \"/home/yonglong/project/parrot/formatted_data_v2/\"\n",
    "NEW_LOC = \"/home/yonglong/project/parrot/formatted_data_v3/\""
   ]
  },
  {
   "attachments": {},
   "cell_type": "markdown",
   "metadata": {},
   "source": [
    "## Restructure all the files under our data folder"
   ]
  },
  {
   "cell_type": "code",
   "execution_count": 7,
   "metadata": {},
   "outputs": [],
   "source": [
    "def extract_speaker(input_string):\n",
    "    return input_string.strip().split(\"\\t\")[-1]\n",
    "\n",
    "for filename in os.listdir(TARGET_FOLDER):\n",
    "    if filename.endswith('.txt'):\n",
    "        FILE = os.path.join(TARGET_FOLDER, filename)\n",
    "        with open(FILE, 'r') as f:\n",
    "            with open(os.path.join(NEW_LOC, filename), 'w+') as new_f:\n",
    "                data = \"\"\n",
    "                for ele in f:\n",
    "                    if (ele[0].isdigit()):\n",
    "                        data += extract_speaker(ele) + \":\"\n",
    "                    # targeting sentences\n",
    "                    if (not ele[0].isdigit() and ele.strip()):\n",
    "                        data += ele \n",
    "                new_f.write(data)"
   ]
  },
  {
   "attachments": {},
   "cell_type": "markdown",
   "metadata": {},
   "source": [
    "## Converting the speaker tag format from SPEAKER_## to Speaker A, Speaker B, ..."
   ]
  },
  {
   "cell_type": "code",
   "execution_count": null,
   "metadata": {},
   "outputs": [],
   "source": [
    "speaker_map = {\"SPEAKER_00\": \"Speaker A\", \"SPEAKER_01\": \"Speaker B\",\n",
    "               \"SPEAKER_02\": \"Speaker C\", \"SPEAKER_03\": \"Speaker D\",\n",
    "               \"SPEAKER_04\": \"Speaker E\", \"SPEAKER_05\": \"Speaker F\",\n",
    "               \"SPEAKER_06\": \"Speaker G\", \"SPEAKER_07\": \"Speaker H\",\n",
    "               \"SPEAKER_08\": \"Speaker I\", \"SPEAKER_09\": \"Speaker J\",\n",
    "               \"SPEAKER_10\": \"Speaker K\", \"SPEAKER_11\": \"Speaker L\",\n",
    "               \"SPEAKER_12\": \"Speaker M\", \"SPEAKER_13\": \"Speaker N\",\n",
    "               \"SPEAKER_14\": \"Speaker O\", \"SPEAKER_15\": \"Speaker P\",\n",
    "               \"SPEAKER_16\": \"Speaker Q\", \"SPEAKER_17\": \"Speaker R\",\n",
    "               \"SPEAKER_18\": \"Speaker S\", \"SPEAKER_19\": \"Speaker T\",\n",
    "               \"SPEAKER_20\": \"Speaker U\", \"SPEAKER_21\": \"Speaker V\"}\n",
    "\n",
    "for filename in os.listdir(TARGET_FOLDER):\n",
    "    if filename.endswith('.txt'):\n",
    "        input_file = os.path.join(TARGET_FOLDER, filename)\n",
    "        output_file = os.path.join(NEW_LOC, filename)\n",
    "        \n",
    "        with open(input_file, 'r') as f:\n",
    "            lines = f.readlines()\n",
    "\n",
    "        with open(output_file, 'w+') as new_f:\n",
    "            for line in lines:\n",
    "                for key in speaker_map.keys():\n",
    "                    if line.startswith(key):\n",
    "                        new_speaker_tag = speaker_map[key]\n",
    "                        new_line = new_speaker_tag + line[len(key):]\n",
    "                        new_f.write(new_line)\n",
    "                        break\n",
    "                else:\n",
    "                    if line.strip():\n",
    "                        new_f.write(line)"
   ]
  }
 ],
 "metadata": {
  "hide_input": false,
  "kernelspec": {
   "display_name": "pd",
   "language": "python",
   "name": "python3"
  },
  "language_info": {
   "codemirror_mode": {
    "name": "ipython",
    "version": 3
   },
   "file_extension": ".py",
   "mimetype": "text/x-python",
   "name": "python",
   "nbconvert_exporter": "python",
   "pygments_lexer": "ipython3",
   "version": "3.8.16"
  },
  "toc": {
   "base_numbering": 1,
   "nav_menu": {},
   "number_sections": true,
   "sideBar": true,
   "skip_h1_title": false,
   "title_cell": "Table of Contents",
   "title_sidebar": "Contents",
   "toc_cell": false,
   "toc_position": {},
   "toc_section_display": true,
   "toc_window_display": false
  },
  "vscode": {
   "interpreter": {
    "hash": "5115531045578c37682d962fe3244651dfde701d1aa72ed856a496a3ac6ab995"
   }
  }
 },
 "nbformat": 4,
 "nbformat_minor": 2
}
