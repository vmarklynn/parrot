{
 "cells": [
  {
   "cell_type": "code",
   "execution_count": 15,
   "metadata": {},
   "outputs": [],
   "source": [
    "import json\n",
    "import os\n",
    "PATH = \"/home/yonglong/project/speech_to_text_for_conversations/reference_json/\"\n",
    "PATH1 = \"/home/yonglong/project/speech_to_text_for_conversations/reference_txt/\"\n",
    "\n",
    "def remove_suffix(filename):\n",
    "    return filename.replace(\".json\", \"\")\n",
    "\n",
    "# Loop through all the files in the PATH directory\n",
    "for filename in os.listdir(PATH):\n",
    "    if filename.endswith(\".json\"):\n",
    "        FILE = os.path.join(PATH, filename)\n",
    "        # Load the JSON data from a file\n",
    "        with open(FILE, 'r') as f:\n",
    "            data = json.load(f)['general_query_list'][0][\"answer\"]\n",
    "            # Write to a new file\n",
    "            with open(os.path.join(PATH1, remove_suffix(filename) + '.txt'), 'w+') as new_f:\n",
    "                new_f.write(data)"
   ]
  }
 ],
 "metadata": {
  "hide_input": false,
  "kernelspec": {
   "display_name": "Python 3",
   "language": "python",
   "name": "python3"
  },
  "language_info": {
   "codemirror_mode": {
    "name": "ipython",
    "version": 3
   },
   "file_extension": ".py",
   "mimetype": "text/x-python",
   "name": "python",
   "nbconvert_exporter": "python",
   "pygments_lexer": "ipython3",
   "version": "3.8.10"
  },
  "toc": {
   "base_numbering": 1,
   "nav_menu": {},
   "number_sections": true,
   "sideBar": true,
   "skip_h1_title": false,
   "title_cell": "Table of Contents",
   "title_sidebar": "Contents",
   "toc_cell": false,
   "toc_position": {},
   "toc_section_display": true,
   "toc_window_display": false
  },
  "vscode": {
   "interpreter": {
    "hash": "916dbcbb3f70747c44a77c7bcd40155683ae19c65e1c03b4aa3499c5328201f1"
   }
  }
 },
 "nbformat": 4,
 "nbformat_minor": 2
}
