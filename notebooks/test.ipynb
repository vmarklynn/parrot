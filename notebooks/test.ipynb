{
 "cells": [
  {
   "cell_type": "code",
   "execution_count": null,
   "metadata": {},
   "outputs": [],
   "source": [
    "from django.http import HttpResponse\n",
    "from mangorest.mango import webapi\n",
    "import whisper, hashlib, os, datetime, json, torch\n",
    "from transformers import pipeline\n",
    "import keybert\n",
    "import math\n",
    "\n",
    "def preprocess(text):\n",
    "    \"\"\"\n",
    "    Remove timelines and return the result in this format:\n",
    "    {SPEAKER}: {SENTENCES}\n",
    "    \"\"\"\n",
    "    result = []\n",
    "    lines = text.strip().split('\\n')\n",
    "    for line in lines:\n",
    "        parts = line.split('|')\n",
    "        speaker = parts[1].strip().split(':')[0]\n",
    "        content = parts[1].strip().split(':')[1].strip()\n",
    "        result.append(f\"{speaker}: {content}\")\n",
    "    return '\\n'.join(result) "
   ]
  },
  {
   "cell_type": "code",
   "execution_count": null,
   "metadata": {},
   "outputs": [],
   "source": [
    "#-----------------------------models------------------------------------------------------------------------               \n",
    "summarizer = pipeline(\"summarization\", \"vmarklynn/bart-large-cnn-samsum-icsi-ami\", truncation=True)\n",
    "kw_model = keybert.KeyBERT(model='all-mpnet-base-v2')\n",
    "#----------------------------------------------------------------------------------------------------- "
   ]
  },
  {
   "cell_type": "code",
   "execution_count": null,
   "metadata": {},
   "outputs": [],
   "source": [
    "transcription = \" \""
   ]
  },
  {
   "cell_type": "code",
   "execution_count": null,
   "metadata": {},
   "outputs": [],
   "source": [
    "input_cleanned_text = preprocess(transcription)\n",
    "summary = summarizer(input_cleanned_text, min_length = , max_length = )[0]['summary_text']\n",
    "summary"
   ]
  }
 ],
 "metadata": {
  "language_info": {
   "name": "python"
  },
  "orig_nbformat": 4
 },
 "nbformat": 4,
 "nbformat_minor": 2
}
